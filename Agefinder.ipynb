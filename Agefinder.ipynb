{
 "cells": [
  {
   "cell_type": "code",
   "execution_count": 10,
   "metadata": {},
   "outputs": [
    {
     "name": "stdout",
     "output_type": "stream",
     "text": [
      "Are you 50 years old?LESS\n",
      "Are you 25 years old?Less\n",
      "Are you 12 years old?More\n",
      "Are you 18 years old?more\n",
      "Are you 21 years old?CORRECT\n",
      "Nice\n"
     ]
    }
   ],
   "source": [
    "down = 0\n",
    "up = 100\n",
    "for i in range(0,10):\n",
    "    guessed_age = int((up + down) / 2)\n",
    "    answer = input(\"Are you \" +str(guessed_age)+ \" years old?\")\n",
    "    if answer == 'correct' or answer == 'Correct' or answer == 'CORRECT':\n",
    "        print(\"Nice\")\n",
    "        break\n",
    "    elif answer == 'more' or answer == 'More' or answer == 'MORE':\n",
    "        down = guessed_age\n",
    "    elif answer == 'less' or answer == 'Less' or answer == 'LESS':\n",
    "        up = guessed_age\n",
    "    else:\n",
    "        print('wrong answer')"
   ]
  },
  {
   "cell_type": "code",
   "execution_count": null,
   "metadata": {},
   "outputs": [],
   "source": []
  }
 ],
 "metadata": {
  "kernelspec": {
   "display_name": "Python 3",
   "language": "python",
   "name": "python3"
  },
  "language_info": {
   "codemirror_mode": {
    "name": "ipython",
    "version": 3
   },
   "file_extension": ".py",
   "mimetype": "text/x-python",
   "name": "python",
   "nbconvert_exporter": "python",
   "pygments_lexer": "ipython3",
   "version": "3.7.3"
  }
 },
 "nbformat": 4,
 "nbformat_minor": 2
}
