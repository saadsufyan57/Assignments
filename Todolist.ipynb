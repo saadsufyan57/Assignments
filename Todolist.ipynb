{
 "cells": [
  {
   "cell_type": "code",
   "execution_count": 8,
   "metadata": {},
   "outputs": [
    {
     "name": "stdout",
     "output_type": "stream",
     "text": [
      "\t\t======================\n",
      "\t\t     My Todo List\n",
      "\t\t======================\n",
      "Press Y to Enter Items and N for exity\n",
      "Enter Your items football\n",
      "Enter Your items cricket\n",
      "Enter Your items games\n",
      "Enter Your items coding\n",
      "Enter Your items python\n",
      "Enter Your items exit\n",
      "['football', 'cricket', 'games', 'coding', 'python', 'exit']\n",
      "Remove any value? Press Rr\n",
      "Enter value to remove: exit\n",
      "['football', 'cricket', 'games', 'coding', 'python']\n",
      "Clear List? Press D d\n",
      "[]\n"
     ]
    }
   ],
   "source": [
    "print(\"\\t\\t======================\\n\\t\\t     My Todo List\\n\\t\\t======================\")\n",
    "list = [];\n",
    "print(list)\n",
    "question = input(\"Press Y to Enter Items and N for exit\").lower()\n",
    "while question!='n':\n",
    "    insert_items = input(\"Enter Your items \")\n",
    "    list.append(insert_items)\n",
    "    if insert_items == 'exit':\n",
    "        break\n",
    "print(list)\n",
    "\n",
    "remove = input(\"Remove any value? Press R\").lower()\n",
    "if remove == 'r':\n",
    "    r= input(\"Enter value to remove: \")\n",
    "    list.remove(r)\n",
    "print(list)\n",
    "delete = input(\"Clear List? Press D \").lower()\n",
    "if delete == 'd':\n",
    "    list.clear()\n",
    "print(list)\n",
    "        \n",
    "    \n"
   ]
  },
  {
   "cell_type": "code",
   "execution_count": null,
   "metadata": {},
   "outputs": [],
   "source": []
  },
  {
   "cell_type": "code",
   "execution_count": null,
   "metadata": {},
   "outputs": [],
   "source": []
  },
  {
   "cell_type": "code",
   "execution_count": null,
   "metadata": {},
   "outputs": [],
   "source": []
  },
  {
   "cell_type": "code",
   "execution_count": null,
   "metadata": {},
   "outputs": [],
   "source": []
  }
 ],
 "metadata": {
  "kernelspec": {
   "display_name": "Python 3",
   "language": "python",
   "name": "python3"
  },
  "language_info": {
   "codemirror_mode": {
    "name": "ipython",
    "version": 3
   },
   "file_extension": ".py",
   "mimetype": "text/x-python",
   "name": "python",
   "nbconvert_exporter": "python",
   "pygments_lexer": "ipython3",
   "version": "3.7.3"
  }
 },
 "nbformat": 4,
 "nbformat_minor": 2
}
