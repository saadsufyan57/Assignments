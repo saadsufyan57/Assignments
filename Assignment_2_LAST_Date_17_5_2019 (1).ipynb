{
 "cells": [
  {
   "cell_type": "markdown",
   "metadata": {},
   "source": [
    "# The ABC company has hired you as an intern on the coding team that creates e-commerce applications.  \n",
    "You must write a script that asks the user for a value. The value must be used as a whole number in a calculation, even if the user enters a decimal value. \n",
    "\n",
    "You need to write the code to meet the requirements."
   ]
  },
  {
   "cell_type": "code",
   "execution_count": 1,
   "metadata": {},
   "outputs": [
    {
     "name": "stdout",
     "output_type": "stream",
     "text": [
      "Enter a number : 4.6\n"
     ]
    }
   ],
   "source": [
    "value = float(input(\"Enter a number : \"))"
   ]
  },
  {
   "cell_type": "code",
   "execution_count": 2,
   "metadata": {},
   "outputs": [
    {
     "name": "stdout",
     "output_type": "stream",
     "text": [
      "4\n"
     ]
    }
   ],
   "source": [
    "print(int(value))"
   ]
  },
  {
   "cell_type": "markdown",
   "metadata": {},
   "source": [
    "# You are creating a Python program that shows a congratulation message to employees on their service anniversary.\n",
    "You need to calculate the number of years of service and print a congratulatory message. You should take the inputs from the users where necessary"
   ]
  },
  {
   "cell_type": "code",
   "execution_count": 3,
   "metadata": {},
   "outputs": [
    {
     "name": "stdout",
     "output_type": "stream",
     "text": [
      "Enter your start year: 2005\n"
     ]
    }
   ],
   "source": [
    "start_year = int(input(\"Enter your start year: \"))"
   ]
  },
  {
   "cell_type": "code",
   "execution_count": 4,
   "metadata": {},
   "outputs": [
    {
     "name": "stdout",
     "output_type": "stream",
     "text": [
      "Enter your current year: 2019\n"
     ]
    }
   ],
   "source": [
    "current_year = int(input(\"Enter your current year: \"))"
   ]
  },
  {
   "cell_type": "code",
   "execution_count": 6,
   "metadata": {},
   "outputs": [
    {
     "name": "stdout",
     "output_type": "stream",
     "text": [
      "Congratulation on your  14  years of service\n"
     ]
    }
   ],
   "source": [
    "diff = current_year - start_year\n",
    "print(\"Congratulation on your \",diff, \" years of service\")"
   ]
  },
  {
   "cell_type": "markdown",
   "metadata": {},
   "source": [
    "# Write a Python program to convert temperatures  from fahrenheit to celsius, \n",
    "#step 1: take \"fahrenheit Temperature\" from user in integer data type\n",
    "#step 2: apply formula that is       (  C = (5/9) * (fahrenheit_temperature - 32)  )\n",
    "#step 3: print step 2. "
   ]
  },
  {
   "cell_type": "code",
   "execution_count": 7,
   "metadata": {},
   "outputs": [
    {
     "name": "stdout",
     "output_type": "stream",
     "text": [
      "Enter temperature in Fahrenheit: 102\n"
     ]
    }
   ],
   "source": [
    "fah = int(input(\"Enter temperature in Fahrenheit: \"))"
   ]
  },
  {
   "cell_type": "code",
   "execution_count": 8,
   "metadata": {},
   "outputs": [],
   "source": [
    "cel = (5/9)* (fah-32) "
   ]
  },
  {
   "cell_type": "code",
   "execution_count": 9,
   "metadata": {},
   "outputs": [
    {
     "name": "stdout",
     "output_type": "stream",
     "text": [
      "Temperature in Celsius is  38.88888888888889\n"
     ]
    }
   ],
   "source": [
    "print(\"Temperature in Celsius is \",cel)"
   ]
  },
  {
   "cell_type": "markdown",
   "metadata": {},
   "source": [
    "<h3>assign a vlue to grade by checking the following conditions:: </h3>\n",
    "<h3>if % is greater then and equal to 90 and less then 100 grade is A+ </h3>\n",
    "<h3>if % is greater then and equal to 80 and less then 90 grade is A </h3>\n",
    "<h3>if % is greater then and equal to 70 and less then 80 grade is B </h3>\n",
    "<h3>if % is greater then and equal to 60 and less then 70 grade is C </h3>\n",
    "<h3>if % is less than 60 grade is FAIL </h3>\n"
   ]
  },
  {
   "cell_type": "code",
   "execution_count": 30,
   "metadata": {},
   "outputs": [
    {
     "name": "stdout",
     "output_type": "stream",
     "text": [
      "Enter your obtained marks: 750\n"
     ]
    }
   ],
   "source": [
    "obt_marks = int(input(\"Enter your obtained marks: \"))\n",
    "total_marks = 800"
   ]
  },
  {
   "cell_type": "code",
   "execution_count": 31,
   "metadata": {},
   "outputs": [],
   "source": [
    "per = (obt_marks/total_marks)*100"
   ]
  },
  {
   "cell_type": "code",
   "execution_count": 32,
   "metadata": {},
   "outputs": [],
   "source": [
    "if(per >=90 and per<100):\n",
    "    grade = 'A+'\n",
    "elif(per >=80 and per<90):\n",
    "    grade = 'A'\n",
    "elif(per >=70 and per<80):\n",
    "    grade = 'B'\n",
    "elif(per >=60 and per<70):\n",
    "    grade = 'C'\n",
    "else:\n",
    "    grade = 'Fail'\n"
   ]
  },
  {
   "cell_type": "markdown",
   "metadata": {},
   "source": [
    "<h3>Print grade percentage and obtained marks</h3>"
   ]
  },
  {
   "cell_type": "code",
   "execution_count": 33,
   "metadata": {
    "scrolled": false
   },
   "outputs": [
    {
     "name": "stdout",
     "output_type": "stream",
     "text": [
      "Obtained marks =  750 \n",
      "Percentage =  93.75 \n",
      "Grade =  A+\n"
     ]
    }
   ],
   "source": [
    "print(\"Obtained marks = \",obt_marks,\"\\nPercentage = \",per,\"\\nGrade = \",grade)"
   ]
  },
  {
   "cell_type": "code",
   "execution_count": null,
   "metadata": {},
   "outputs": [],
   "source": []
  }
 ],
 "metadata": {
  "kernelspec": {
   "display_name": "Python 3",
   "language": "python",
   "name": "python3"
  },
  "language_info": {
   "codemirror_mode": {
    "name": "ipython",
    "version": 3
   },
   "file_extension": ".py",
   "mimetype": "text/x-python",
   "name": "python",
   "nbconvert_exporter": "python",
   "pygments_lexer": "ipython3",
   "version": "3.7.3"
  }
 },
 "nbformat": 4,
 "nbformat_minor": 2
}
